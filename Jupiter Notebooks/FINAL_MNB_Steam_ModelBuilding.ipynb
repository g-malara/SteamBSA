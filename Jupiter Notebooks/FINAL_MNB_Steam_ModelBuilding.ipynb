{
  "cells": [
    {
      "cell_type": "code",
      "execution_count": null,
      "metadata": {
        "id": "AXMX5kjJt-OQ"
      },
      "outputs": [],
      "source": [
        "%%capture\n",
        "!pip install scikit-learn\n",
        "!pip install seaborn\n",
        "!pip install scipy\n",
        "!pip install gensim"
      ]
    },
    {
      "cell_type": "code",
      "execution_count": null,
      "metadata": {
        "id": "f4zjERio2cI8"
      },
      "outputs": [],
      "source": [
        "%%capture\n",
        "import pandas as pd\n",
        "from google.colab import files\n",
        "from IPython.display import display, display_html\n",
        "import string\n",
        "from google.colab import drive\n",
        "from sklearn.model_selection import train_test_split\n",
        "from sklearn.feature_extraction.text import CountVectorizer, TfidfTransformer, TfidfVectorizer, HashingVectorizer\n",
        "from sklearn.naive_bayes import GaussianNB, MultinomialNB, BernoulliNB\n",
        "from sklearn.metrics import accuracy_score, precision_score, confusion_matrix, classification_report\n",
        "import numpy as np\n",
        "import seaborn as sns\n",
        "import matplotlib.pyplot as plt\n",
        "from scipy import sparse\n",
        "import numpy as np\n",
        "from sklearn.metrics import classification_report"
      ]
    },
    {
      "cell_type": "code",
      "execution_count": null,
      "metadata": {
        "id": "8EKhsdpAudO1",
        "colab": {
          "base_uri": "https://localhost:8080/"
        },
        "outputId": "1b6228a4-ed1e-4171-ba83-aaa6d5df90ed"
      },
      "outputs": [
        {
          "output_type": "stream",
          "name": "stdout",
          "text": [
            "Mounted at /content/drive\n"
          ]
        }
      ],
      "source": [
        "drive.mount('/content/drive')"
      ]
    },
    {
      "cell_type": "code",
      "source": [
        "train = pd.read_csv('/content/drive/MyDrive/NLPEX/END/train.csv')\n",
        "val = pd.read_csv('/content/drive/MyDrive/NLPEX/END/val.csv')\n",
        "test = pd.read_csv('/content/drive/MyDrive/NLPEX/END/test.csv')"
      ],
      "metadata": {
        "id": "tvoPtByi69eA"
      },
      "execution_count": null,
      "outputs": []
    },
    {
      "cell_type": "code",
      "source": [
        "train = train.dropna()\n",
        "val = val.dropna()\n",
        "test = test.dropna()"
      ],
      "metadata": {
        "id": "KPdXhyVA8fbq"
      },
      "execution_count": null,
      "outputs": []
    },
    {
      "cell_type": "code",
      "source": [
        "train = pd.concat([train, val], ignore_index=True)"
      ],
      "metadata": {
        "id": "qTZ-zmT77Z-R"
      },
      "execution_count": null,
      "outputs": []
    },
    {
      "cell_type": "code",
      "execution_count": null,
      "metadata": {
        "id": "rEkfubzZ2_ro"
      },
      "outputs": [],
      "source": [
        "#@title main\n",
        "X_train = train['text']\n",
        "y_train = train['score']\n",
        "X_test = test['text']\n",
        "y_test = test['score']\n",
        "\n",
        "# Create the document-term matrix using TfidfVectorizer\n",
        "vectorizer = TfidfVectorizer(min_df=5, ngram_range=(1,3))\n",
        "X_train_vec = vectorizer.fit_transform(X_train)\n",
        "X_test_vec = vectorizer.transform(X_test)\n"
      ]
    },
    {
      "cell_type": "code",
      "execution_count": null,
      "metadata": {
        "colab": {
          "base_uri": "https://localhost:8080/"
        },
        "id": "Ekc5rNyZKUAT",
        "outputId": "4f263f97-417b-4b8f-f6fb-8d9c4ff1c26a"
      },
      "outputs": [
        {
          "output_type": "stream",
          "name": "stdout",
          "text": [
            "Number of features: 774292\n"
          ]
        }
      ],
      "source": [
        "num_features = len(vectorizer.vocabulary_)\n",
        "\n",
        "print(\"Number of features:\", num_features)"
      ]
    },
    {
      "cell_type": "code",
      "execution_count": null,
      "metadata": {
        "id": "Pdx6H32UDSt7"
      },
      "outputs": [],
      "source": [
        "mnb = MultinomialNB()"
      ]
    },
    {
      "cell_type": "code",
      "execution_count": null,
      "metadata": {
        "id": "a4vgVrwUDaMb"
      },
      "outputs": [],
      "source": [
        "mnb.fit(X_train_vec,y_train)\n",
        "y_pred = mnb.predict(X_test_vec)"
      ]
    },
    {
      "cell_type": "code",
      "execution_count": null,
      "metadata": {
        "colab": {
          "base_uri": "https://localhost:8080/"
        },
        "id": "4zVn0weoM9Bu",
        "outputId": "59a38851-aba9-4e4d-8f27-19be0b4aa9ab"
      },
      "outputs": [
        {
          "output_type": "execute_result",
          "data": {
            "text/plain": [
              "0.9150162536124706"
            ]
          },
          "metadata": {},
          "execution_count": 13
        }
      ],
      "source": [
        "mnb.score(X_train_vec, y_train)"
      ]
    },
    {
      "cell_type": "code",
      "source": [
        "accuracy = accuracy_score(y_test, y_pred)\n",
        "report = classification_report(y_test, y_pred)\n",
        "print(f\"Accuracy: {accuracy:.2f}\")\n",
        "print(confusion_matrix(y_test,y_pred))\n",
        "print(\"Classification Report:\")\n",
        "print(report)"
      ],
      "metadata": {
        "id": "iSKo_KDNoKVW",
        "outputId": "45d1c246-36bb-4f2a-f2c0-a36cbccafb5a",
        "colab": {
          "base_uri": "https://localhost:8080/"
        }
      },
      "execution_count": null,
      "outputs": [
        {
          "output_type": "stream",
          "name": "stdout",
          "text": [
            "Accuracy: 0.88\n",
            "[[20611  1879]\n",
            " [ 3466 19044]]\n",
            "Classification Report:\n",
            "              precision    recall  f1-score   support\n",
            "\n",
            "          -1       0.86      0.92      0.89     22490\n",
            "           1       0.91      0.85      0.88     22510\n",
            "\n",
            "    accuracy                           0.88     45000\n",
            "   macro avg       0.88      0.88      0.88     45000\n",
            "weighted avg       0.88      0.88      0.88     45000\n",
            "\n"
          ]
        }
      ]
    },
    {
      "cell_type": "code",
      "source": [
        "train_predictions = mnb.predict(X_train_vec)\n",
        "train_accuracy = accuracy_score(y_train, train_predictions)\n",
        "print(\"Training Accuracy:\", train_accuracy)\n",
        "\n",
        "test_predictions = mnb.predict(X_test_vec)\n",
        "test_accuracy = accuracy_score(y_test, test_predictions)\n",
        "print(\"Test Accuracy:\", test_accuracy)"
      ],
      "metadata": {
        "id": "Ad4kxUXKiA1s",
        "colab": {
          "base_uri": "https://localhost:8080/"
        },
        "outputId": "29166949-29cf-4bb3-d788-0d95277a686d"
      },
      "execution_count": null,
      "outputs": [
        {
          "output_type": "stream",
          "name": "stdout",
          "text": [
            "Training Accuracy: 0.9251843137254901\n",
            "Test Accuracy: 0.8743555555555556\n"
          ]
        }
      ]
    }
  ],
  "metadata": {
    "accelerator": "GPU",
    "colab": {
      "provenance": [],
      "gpuType": "T4"
    },
    "kernelspec": {
      "display_name": "Python 3",
      "name": "python3"
    },
    "language_info": {
      "name": "python"
    }
  },
  "nbformat": 4,
  "nbformat_minor": 0
}
